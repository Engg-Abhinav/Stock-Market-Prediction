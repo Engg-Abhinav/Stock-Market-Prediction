{
 "cells": [
  {
   "cell_type": "code",
   "execution_count": null,
   "id": "93ce751a-ce5b-4dd4-a084-d96dcd8f43ae",
   "metadata": {},
   "outputs": [],
   "source": [
    "!pip3 install textblob\n",
    "!pip3 install xgboost\n",
    "!pip3 install lightgbm"
   ]
  },
  {
   "cell_type": "code",
   "execution_count": null,
   "id": "d9cb31d5-5d66-40bb-bcd0-da8bbc02895d",
   "metadata": {},
   "outputs": [],
   "source": [
    "import os\n",
    "import pandas as pd\n",
    "import numpy as np\n",
    "import seaborn as sns\n",
    "import matplotlib.pyplot as plt\n",
    "\n",
    "import warnings\n",
    "warnings.filterwarnings('ignore')\n",
    "\n",
    "\n",
    "from statsmodels.tsa.arima_model import ARIMA\n",
    "from statsmodels.tsa.statespace.sarimax import SARIMAX\n",
    "\n",
    "import nltk\n",
    "import re\n",
    "from textblob import TextBlob\n",
    "from nltk.sentiment.vader import SentimentIntensityAnalyzer\n",
    "from sklearn.preprocessing import MinMaxScaler\n",
    "\n",
    "from sklearn.metrics import mean_squared_error\n",
    "from sklearn.model_selection import train_test_split\n",
    "from sklearn.ensemble import RandomForestRegressor, AdaBoostRegressor\n",
    "from sklearn.tree import DecisionTreeRegressor\n",
    "import xgboost\n",
    "import lightgbm"
   ]
  },
  {
   "cell_type": "code",
   "execution_count": null,
   "id": "069812d9-aae2-4e49-a4c5-3c3530ee2fa9",
   "metadata": {},
   "outputs": [],
   "source": [
    "!pip3 install pandas_datareader"
   ]
  },
  {
   "cell_type": "code",
   "execution_count": null,
   "id": "7e4896a6-630a-4f83-b850-c2a5db761d94",
   "metadata": {},
   "outputs": [],
   "source": [
    "# For reading stock data from yahoo\n",
    "from pandas_datareader.data import DataReader\n",
    "# For time stamps\n",
    "from datetime import datetime"
   ]
  },
  {
   "cell_type": "code",
   "execution_count": null,
   "id": "252a24e9-eb4b-4d23-97f4-35246dd8c9e7",
   "metadata": {},
   "outputs": [],
   "source": [
    "# Load the first dataset\n",
    "columns=['Date','Category','News']\n",
    "ndf = pd.read_csv(\"india-news-headlines.csv\",names=columns)"
   ]
  },
  {
   "cell_type": "code",
   "execution_count": null,
   "id": "cd1d1b50-a84b-43ca-a166-3fecdde41b35",
   "metadata": {},
   "outputs": [],
   "source": [
    "print('Showing part of the whole dataset:')\n",
    "ndf.head(5)"
   ]
  },
  {
   "cell_type": "code",
   "execution_count": null,
   "id": "ba5d6eb7-ebcf-4014-b242-d78e8fdd9874",
   "metadata": {},
   "outputs": [],
   "source": [
    "ndf.drop(0, inplace=True)\n",
    "ndf.drop('Category', axis = 1, inplace=True)\n",
    "print('Showing part of the whole dataset:')\n",
    "ndf.head(-5)"
   ]
  },
  {
   "cell_type": "code",
   "execution_count": null,
   "id": "a52dd037-8e34-4f30-905a-46edaa817f13",
   "metadata": {},
   "outputs": [],
   "source": [
    "# Load the second dataset\n",
    "hisdf = pd.read_csv(\"BSESN.csv\")\n",
    "hisdf.head(-5)"
   ]
  },
  {
   "cell_type": "markdown",
   "id": "2705a28c-f3f9-4e80-a257-ae78914a9751",
   "metadata": {},
   "source": [
    "# Common Dataset Exploration"
   ]
  },
  {
   "cell_type": "code",
   "execution_count": null,
   "id": "ba41b3cc-34b2-42e3-9adc-2b5354db4090",
   "metadata": {},
   "outputs": [],
   "source": [
    "# Check for common information of the first datast\n",
    "ndf[\"Date\"] = pd.to_datetime(ndf[\"Date\"],format='%Y%m%d')\n",
    "ndf.info()"
   ]
  },
  {
   "cell_type": "code",
   "execution_count": null,
   "id": "4d79b221-6c0f-489d-91ec-1ca41d8477b8",
   "metadata": {},
   "outputs": [],
   "source": [
    "# Group the headlines for each day\n",
    "ndf['News'] = ndf.groupby(['Date']).transform(lambda x : ' '.join(x)) \n",
    "ndf = ndf.drop_duplicates() \n",
    "ndf.reset_index(inplace=True,drop=True)"
   ]
  },
  {
   "cell_type": "code",
   "execution_count": null,
   "id": "04fe0374-2764-4403-8ced-1c7c65353fa7",
   "metadata": {},
   "outputs": [],
   "source": [
    "ndf"
   ]
  },
  {
   "cell_type": "code",
   "execution_count": null,
   "id": "b9c44b09-29a3-4e0d-8444-d16329393f22",
   "metadata": {},
   "outputs": [],
   "source": [
    "# Check for any duplicated values\n",
    "ndf.isnull().sum()"
   ]
  },
  {
   "cell_type": "code",
   "execution_count": null,
   "id": "0b64f5a7-0285-4642-b527-090a2b59458b",
   "metadata": {},
   "outputs": [],
   "source": [
    "hisdf.isnull().sum()"
   ]
  },
  {
   "cell_type": "code",
   "execution_count": null,
   "id": "622df596-e4af-49a0-8c6a-04ddbb397328",
   "metadata": {},
   "outputs": [],
   "source": [
    "hisdf.dropna(inplace=True)"
   ]
  },
  {
   "cell_type": "code",
   "execution_count": null,
   "id": "70f55db9-0d77-4da9-8068-2f80079f7cb4",
   "metadata": {},
   "outputs": [],
   "source": [
    "len(ndf)"
   ]
  },
  {
   "cell_type": "code",
   "execution_count": null,
   "id": "c09ec9d7-5bb6-46d7-8086-235cd0eb6f29",
   "metadata": {},
   "outputs": [],
   "source": [
    "hisdf=hisdf[[\"Date\",\"Open\",\"High\",\"Low\",\"Close\",\"Volume\"]]\n",
    "hisdf.head(-5)"
   ]
  },
  {
   "cell_type": "code",
   "execution_count": null,
   "id": "1ffd7ab3-dbee-4d00-9378-cebc828eeabf",
   "metadata": {},
   "outputs": [],
   "source": [
    "# Check for common information of the second dataset\n",
    "hisdf[\"Date\"]= pd.to_datetime(hisdf[\"Date\"])\n",
    "hisdf.info()"
   ]
  },
  {
   "cell_type": "code",
   "execution_count": null,
   "id": "13799efb-dc80-4b30-a116-4615e41cdd03",
   "metadata": {},
   "outputs": [],
   "source": [
    "hisdf.describe()"
   ]
  },
  {
   "cell_type": "code",
   "execution_count": null,
   "id": "4d22e125-7afe-4506-b26c-567a07ea4a5f",
   "metadata": {},
   "outputs": [],
   "source": [
    "# Check for duplicated values\n",
    "hisdf.isnull().sum()"
   ]
  },
  {
   "cell_type": "code",
   "execution_count": null,
   "id": "5cb6c6ff-82eb-48bf-8800-e99289bcd261",
   "metadata": {},
   "outputs": [],
   "source": [
    "len(hisdf)"
   ]
  },
  {
   "cell_type": "code",
   "execution_count": null,
   "id": "9edcf702-4929-455e-b8c8-3f18c5d151a9",
   "metadata": {},
   "outputs": [],
   "source": [
    "# Figure plot\n",
    "plt.figure(figsize=(20,10))\n",
    "hisdf['Close'].plot()\n",
    "plt.ylabel('BSESN')"
   ]
  },
  {
   "cell_type": "markdown",
   "id": "d795abee-2d9f-4734-819c-ebd0a03f4fca",
   "metadata": {},
   "source": [
    "# Remove Unwanted Characters from the News"
   ]
  },
  {
   "cell_type": "code",
   "execution_count": null,
   "id": "b7e74e2f-7e4e-43ed-a6e9-095b888b0575",
   "metadata": {},
   "outputs": [],
   "source": [
    "#removing unwanted characters from the News\n",
    "ndf.replace(\"[^a-zA-Z']\",\" \",regex=True,inplace=True)\n",
    "ndf[\"News\"].head(5)"
   ]
  },
  {
   "cell_type": "markdown",
   "id": "170650c0-d1b6-4413-946f-19c5024b6f5a",
   "metadata": {},
   "source": [
    "# Historical Analysis"
   ]
  },
  {
   "cell_type": "markdown",
   "id": "efe358e2-353d-47bb-881c-45ba61e3a329",
   "metadata": {},
   "source": [
    "### Plot the Moving Average"
   ]
  },
  {
   "cell_type": "code",
   "execution_count": null,
   "id": "8a7884bf-0cb7-4cae-b47f-f8fcf3a15fb3",
   "metadata": {},
   "outputs": [],
   "source": [
    "#Plotting moving average\n",
    "close = hisdf['Close']\n",
    "\n",
    "ma = close.rolling(window = 50).mean()\n",
    "std = close.rolling(window = 50).std()\n",
    "\n",
    "plt.figure(figsize=(20,10))\n",
    "hisdf['Close'].plot(color='g',label='Close')\n",
    "ma.plot(color = 'r',label='Rolling Mean')\n",
    "std.plot(label = 'Rolling Standard Deviation')\n",
    "\n",
    "plt.legend()"
   ]
  },
  {
   "cell_type": "markdown",
   "id": "93eb0460-9ab5-4def-9a25-0732c2088cb1",
   "metadata": {},
   "source": [
    "### Plot the Returns"
   ]
  },
  {
   "cell_type": "code",
   "execution_count": null,
   "id": "ac22dc1b-94e2-4e34-b1c8-912a433979ff",
   "metadata": {},
   "outputs": [],
   "source": [
    "#Plotting returns\n",
    "returns = close / close.shift(1) - 1\n",
    "\n",
    "plt.figure(figsize = (20,10))\n",
    "returns.plot(label='Return', color = 'g')\n",
    "plt.title(\"Returns\")"
   ]
  },
  {
   "cell_type": "code",
   "execution_count": null,
   "id": "b8720ecd-4142-4296-ab3e-c95d1871db96",
   "metadata": {},
   "outputs": [],
   "source": [
    "# Train test split\n",
    "train = hisdf[:1219]\n",
    "test = hisdf[1219:]"
   ]
  },
  {
   "cell_type": "markdown",
   "id": "a598c65c-f12e-4903-bf98-c8533959ad22",
   "metadata": {},
   "source": [
    "# Rolling mean and Standard Deviation"
   ]
  },
  {
   "cell_type": "code",
   "execution_count": null,
   "id": "2d1c0cf7-3e0c-40f1-8e9a-e41241bc29fe",
   "metadata": {},
   "outputs": [],
   "source": [
    "#Stationarity test\n",
    "from statsmodels.tsa.stattools import adfuller\n",
    "def test_stationarity(timeseries):\n",
    "\n",
    " #Determine the rolling statistics\n",
    " rolmean = timeseries.rolling(20).mean()\n",
    " rolstd = timeseries.rolling(20).std()\n",
    "\n",
    " #Plot rolling statistics:\n",
    " plt.figure(figsize = (20,10))\n",
    " plt.plot(timeseries, color = 'blue', label = 'original')\n",
    " plt.plot(rolmean, color = 'r', label = 'rolling mean')\n",
    " plt.plot(rolstd, color = 'black', label = 'rolling std')\n",
    " plt.xlabel('Date')\n",
    " plt.legend()\n",
    " plt.title('Rolling Mean and Standard Deviation',  fontsize = 30)\n",
    " plt.show(block = False)\n",
    " \n",
    " print('Results of dickey fuller test')\n",
    " result = adfuller(timeseries, autolag = 'AIC')\n",
    " labels = ['ADF Test Statistic','p-value','#Lags Used','Number of Observations Used']\n",
    " for value,label in zip(result, labels):\n",
    "   print(label+' : '+str(value) )\n",
    " if result[1] <= 0.05:\n",
    "   print(\"Strong evidence against the null hypothesis(Ho), reject the null hypothesis. Data is stationary\")\n",
    " else:\n",
    "   print(\"Weak evidence against null hypothesis, time series is non-stationary \")\n",
    "test_stationarity(train['Close'])"
   ]
  },
  {
   "cell_type": "code",
   "execution_count": null,
   "id": "80095cd4-191a-4f54-aec2-b5e77a275e7e",
   "metadata": {},
   "outputs": [],
   "source": [
    "train_log = np.log(train['Close']) \n",
    "test_log = np.log(test['Close'])\n",
    "\n",
    "mav = train_log.rolling(24).mean() \n",
    "plt.figure(figsize = (20,10))\n",
    "plt.plot(train_log) \n",
    "plt.plot(mav, color = 'red')"
   ]
  },
  {
   "cell_type": "code",
   "execution_count": null,
   "id": "bdca4d59-1f4e-43a1-90f7-9d0aa91b606d",
   "metadata": {},
   "outputs": [],
   "source": [
    "train_log.dropna(inplace = True)\n",
    "test_log.dropna(inplace = True)\n",
    "\n",
    "test_stationarity(train_log)"
   ]
  },
  {
   "cell_type": "code",
   "execution_count": null,
   "id": "902b2e14-f183-4f6d-946f-75a7820027df",
   "metadata": {},
   "outputs": [],
   "source": [
    "train_log_diff = train_log - mav\n",
    "train_log_diff.dropna(inplace = True)\n",
    "\n",
    "test_stationarity(train_log_diff)"
   ]
  },
  {
   "cell_type": "code",
   "execution_count": null,
   "id": "35e5dc70-cb54-49e9-a742-e2f7e4649556",
   "metadata": {},
   "outputs": [],
   "source": [
    "#Using auto arima to make predictions using log data\n",
    "!pip3 install pmdarima\n",
    "from pmdarima import auto_arima"
   ]
  },
  {
   "cell_type": "code",
   "execution_count": null,
   "id": "ca507e15-77db-4538-8d0d-75526f25e57c",
   "metadata": {},
   "outputs": [],
   "source": [
    "model = auto_arima(train_log, trace = True, error_action = 'ignore', suppress_warnings = True)\n",
    "model.fit(train_log)\n",
    "predictions = model.predict(periods = len(test))\n",
    "predictions = pd.DataFrame(predictions,index = test_log.index,columns=['Prediction'])"
   ]
  },
  {
   "cell_type": "code",
   "execution_count": null,
   "id": "2362050b-3e8d-4243-bd49-efa415bb58fd",
   "metadata": {},
   "outputs": [],
   "source": [
    "plt.plot(train_log, label='Train')\n",
    "plt.plot(test_log, label='Test')\n",
    "plt.plot(predictions, label='Prediction')\n",
    "plt.title('BSESN Stock Price Prediction')\n",
    "plt.xlabel('Time')\n",
    "plt.ylabel('Actual Stock Price')"
   ]
  },
  {
   "cell_type": "markdown",
   "id": "d4bb5f05-8c8b-4108-b921-ee422880e8a5",
   "metadata": {},
   "source": [
    "# Textual Analysis"
   ]
  },
  {
   "cell_type": "code",
   "execution_count": null,
   "id": "d367d0c9-bc2a-4a37-af76-c56f6ed25296",
   "metadata": {},
   "outputs": [],
   "source": [
    "#Functions to get the subjectivity and polarity\n",
    "def getSubjectivity(text):\n",
    "  return TextBlob(text).sentiment.subjectivity\n",
    "\n",
    "def getPolarity(text):\n",
    "  return  TextBlob(text).sentiment.polarity"
   ]
  },
  {
   "cell_type": "code",
   "execution_count": null,
   "id": "fcd671c1-00f6-4a03-9883-35f5b018b1d8",
   "metadata": {},
   "outputs": [],
   "source": [
    "#Adding subjectivity and polarity columns\n",
    "ndf['Subjectivity'] = ndf['News'].apply(getSubjectivity)\n",
    "ndf['Polarity'] = ndf['News'].apply(getPolarity)\n",
    "ndf"
   ]
  },
  {
   "cell_type": "code",
   "execution_count": null,
   "id": "73e20c9d-ebbe-46f6-9785-84c9af59da29",
   "metadata": {},
   "outputs": [],
   "source": [
    "#Adding sentiment score to df_news\n",
    "from nltk.sentiment import SentimentIntensityAnalyzer\n",
    "sia = SentimentIntensityAnalyzer()"
   ]
  },
  {
   "cell_type": "code",
   "execution_count": null,
   "id": "0b2bd3f0",
   "metadata": {},
   "outputs": [],
   "source": [
    "ndf['Compound'] = [sia.polarity_scores(v)['compound'] for v in ndf['News']]\n",
    "ndf['Negative'] = [sia.polarity_scores(v)['neg'] for v in ndf['News']]\n",
    "ndf['Neutral'] = [sia.polarity_scores(v)['neu'] for v in ndf['News']]\n",
    "ndf['Positive'] = [sia.polarity_scores(v)['pos'] for v in ndf['News']]\n",
    "ndf"
   ]
  },
  {
   "cell_type": "markdown",
   "id": "4f1e1af2-e589-41f2-8a28-fb17df704027",
   "metadata": {},
   "source": [
    "# Merge the Historical and Textual Data"
   ]
  },
  {
   "cell_type": "code",
   "execution_count": null,
   "id": "aa3c5af0-6136-41b3-abb7-820eaa85deba",
   "metadata": {},
   "outputs": [],
   "source": [
    "df_merge = pd.merge(hisdf, ndf, how='inner', on='Date')\n",
    "df_merge"
   ]
  },
  {
   "cell_type": "markdown",
   "id": "eddd9f67-95ba-4df5-adb0-2cd49d10fd41",
   "metadata": {},
   "source": [
    "# Create Dataset for Model Training"
   ]
  },
  {
   "cell_type": "code",
   "execution_count": null,
   "id": "cbc8d32a-3f74-4ae3-92fb-bc59be025ab6",
   "metadata": {},
   "outputs": [],
   "source": [
    "dfmerge1 = df_merge[['Close','Subjectivity', 'Polarity', 'Compound', 'Negative', 'Neutral', 'Positive']]\n",
    "dfmerge1"
   ]
  },
  {
   "cell_type": "markdown",
   "id": "f6261981-96be-447e-a7ef-8da568d6a6cd",
   "metadata": {},
   "source": [
    "# Normalize Data"
   ]
  },
  {
   "cell_type": "code",
   "execution_count": null,
   "id": "a35510c0-b8ef-484c-a6cd-f1e38e679dc8",
   "metadata": {},
   "outputs": [],
   "source": [
    "scaler = MinMaxScaler()\n",
    "\n",
    "df = pd.DataFrame(scaler.fit_transform(dfmerge1))\n",
    "df.columns = dfmerge1.columns\n",
    "df.index = dfmerge1.index\n",
    "df.head()"
   ]
  },
  {
   "cell_type": "code",
   "execution_count": null,
   "id": "f6b44b07-5397-49a7-8f80-4d869525fcc6",
   "metadata": {},
   "outputs": [],
   "source": [
    "X=df.drop('Close',axis=1)\n",
    "X"
   ]
  },
  {
   "cell_type": "code",
   "execution_count": null,
   "id": "8dc22db5-41da-46fa-9f37-4fbc3e513f1e",
   "metadata": {},
   "outputs": [],
   "source": [
    "Y=df['Close']\n",
    "Y"
   ]
  },
  {
   "cell_type": "markdown",
   "id": "1679698f-578d-4c6c-8185-3588d65e0b88",
   "metadata": {},
   "source": [
    "# Split the Dataset into Train & Test Data"
   ]
  },
  {
   "cell_type": "code",
   "execution_count": null,
   "id": "e607158a-1cb1-4b7f-9033-eac3d0be6f2b",
   "metadata": {},
   "outputs": [],
   "source": [
    "x_train, x_test, y_train, y_test = train_test_split(X, Y, test_size=0.2, random_state = 0)\n",
    "x_train.shape"
   ]
  },
  {
   "cell_type": "code",
   "execution_count": null,
   "id": "6225a0e9-8370-43ab-a27d-a49c4ae1b8cd",
   "metadata": {},
   "outputs": [],
   "source": [
    "x_train[:10]"
   ]
  },
  {
   "cell_type": "markdown",
   "id": "a556de2d-a25d-43e9-9d9a-b6ce44aee77a",
   "metadata": {},
   "source": [
    "## RandomForestRegressor Model"
   ]
  },
  {
   "cell_type": "code",
   "execution_count": null,
   "id": "5085ea7b-7a57-4759-b60a-f4db162fbd44",
   "metadata": {},
   "outputs": [],
   "source": [
    "rf = RandomForestRegressor()\n",
    "rf.fit(x_train, y_train)\n",
    "prediction=rf.predict(x_test)"
   ]
  },
  {
   "cell_type": "code",
   "execution_count": null,
   "id": "b8850cfc-58b1-4319-a708-250d2179bb4c",
   "metadata": {},
   "outputs": [],
   "source": [
    "print(prediction[:10])\n",
    "print(y_test[:10])\n",
    "print('Mean Squared error: ',mean_squared_error(prediction,y_test))"
   ]
  },
  {
   "cell_type": "markdown",
   "id": "2b2316e4-ece4-4cf4-aafd-120fb38874ac",
   "metadata": {},
   "source": [
    "## DecisionTreeRegressor Model"
   ]
  },
  {
   "cell_type": "code",
   "execution_count": null,
   "id": "10871693-3c50-45a8-8eff-d281bb2836c2",
   "metadata": {},
   "outputs": [],
   "source": [
    "dtr = DecisionTreeRegressor()\n",
    "dtr.fit(x_train, y_train)\n",
    "predictions = dtr.predict(x_test)"
   ]
  },
  {
   "cell_type": "code",
   "execution_count": null,
   "id": "68667e24-528b-47bb-82a4-6908c48f7f5c",
   "metadata": {},
   "outputs": [],
   "source": [
    "print(predictions[:10])\n",
    "print(y_test[:10])\n",
    "print('Mean Squared error: ',mean_squared_error(predictions,y_test))"
   ]
  },
  {
   "cell_type": "markdown",
   "id": "700616e3-e36e-43f1-a58a-046fb0e0d797",
   "metadata": {},
   "source": [
    "## AdaBoostRegressor Model"
   ]
  },
  {
   "cell_type": "code",
   "execution_count": null,
   "id": "2244c23f-7620-44f8-b640-fc95fab42cae",
   "metadata": {},
   "outputs": [],
   "source": [
    "adb = AdaBoostRegressor()\n",
    "adb.fit(x_train, y_train)"
   ]
  },
  {
   "cell_type": "code",
   "execution_count": null,
   "id": "e3230a34-bb76-4976-aa1e-160011f48999",
   "metadata": {},
   "outputs": [],
   "source": [
    "predictions = adb.predict(x_test)\n",
    "print(mean_squared_error(predictions, y_test))"
   ]
  },
  {
   "cell_type": "markdown",
   "id": "3ad32ce4-1917-4dec-99fc-8d5e5a915c1a",
   "metadata": {},
   "source": [
    "## LGBMRegressor Model"
   ]
  },
  {
   "cell_type": "code",
   "execution_count": null,
   "id": "1a2986f7-2b4e-48f7-b16f-e3ff16e27460",
   "metadata": {},
   "outputs": [],
   "source": [
    "gbm = lightgbm.LGBMRegressor()\n",
    "gbm.fit(x_train, y_train)"
   ]
  },
  {
   "cell_type": "code",
   "execution_count": null,
   "id": "d0804eef-a0b0-403f-a429-a69e4d6499a3",
   "metadata": {},
   "outputs": [],
   "source": [
    "predictions = gbm.predict(x_test)\n",
    "print(mean_squared_error(predictions, y_test))"
   ]
  },
  {
   "cell_type": "markdown",
   "id": "a0e8f097-5373-4ae1-952b-f512b266d7c2",
   "metadata": {},
   "source": [
    "## XGBRegressor Model"
   ]
  },
  {
   "cell_type": "code",
   "execution_count": null,
   "id": "822efd7a-db6e-4a5e-8238-333b7baff5af",
   "metadata": {},
   "outputs": [],
   "source": [
    "xgb = xgboost.XGBRegressor()\n",
    "xgb.fit(x_train, y_train)"
   ]
  },
  {
   "cell_type": "code",
   "execution_count": null,
   "id": "96f0b1c3-0064-47cb-a6c7-7904f5fca0e6",
   "metadata": {},
   "outputs": [],
   "source": [
    "predictions = xgb.predict(x_test)\n",
    "print(mean_squared_error(predictions, y_test))"
   ]
  },
  {
   "cell_type": "markdown",
   "id": "7c0f508e-b333-42d9-afce-bbc48f84a2cf",
   "metadata": {},
   "source": [
    "## Conclusion\n",
    "\n",
    "- RandomForest = 0.04975238888402308\n",
    "- DecisionTree = 0.06843420770581478\n",
    "- AdaBoost = 0.07348108438384789\n",
    "- LightGBM = 0.06925482645000026\n",
    "- XGBoost = 0.06056024683163225\n",
    "\n",
    "From here we can see that RandomForestRegressor shows a better performance than the others"
   ]
  }
 ],
 "metadata": {
  "kernelspec": {
   "display_name": "Python 3 (ipykernel)",
   "language": "python",
   "name": "python3"
  },
  "language_info": {
   "codemirror_mode": {
    "name": "ipython",
    "version": 3
   },
   "file_extension": ".py",
   "mimetype": "text/x-python",
   "name": "python",
   "nbconvert_exporter": "python",
   "pygments_lexer": "ipython3",
   "version": "3.10.9"
  }
 },
 "nbformat": 4,
 "nbformat_minor": 5
}
